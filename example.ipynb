{
 "cells": [
  {
   "cell_type": "markdown",
   "metadata": {},
   "source": [
    "# Example formatted output in multiple formats for IA\n",
    "\n",
    "- Show a data load\n",
    "- Show a manipulation\n",
    "- Show how a map loads/exports\n",
    "\n",
    "Proposal:\n",
    "\n",
    "A Jupyter Notebook (in the style of https://www.theatlantic.com/science/archive/2018/04/the-scientific-paper-is-obsolete/556676/ with text + code. A more emphatic version of https://mybinder.org/v2/gh/mqAncientHistory/Lat-Epig/HEAD?urlpath=notebooks/EpigraphyScraper.ipynb) with a normal (markdown formatted) journal article + integration with OpenAI's large language models to provide examples (and an interface for readers to put their own epigraphy through, so long as they have an API key).\n",
    "\n",
    "This proposal is intended to start discussion of how these Large Language Models could be used (or require further development before re-assessing) in Latin epigraphic research. In many wise, it is intended to start a discussion of how these tools _should_ be used in research.\n",
    "\n",
    "We plan to use our published dataset to assess the quality of different large language model prompts (along with experimenting with [Microsoft's Guidance library](https://github.com/microsoft/guidance) for more effective \"prompt engineering.\"\n",
    "\n",
    "We also plan to provoke/invite responses by other scholars around the application of the tool and future directions in the fields of Archaeology and Epigraphy\n"
   ]
  },
  {
   "cell_type": "code",
   "execution_count": 15,
   "metadata": {},
   "outputs": [
    {
     "name": "stdout",
     "output_type": "stream",
     "text": [
      "Search Terms:\n",
      "* operator: and\n",
      "* term1: tumulus\n",
      "Data fetched on: 2023-05-12T14:26:28.191272\n",
      "Number of Inscriptions: 74\n",
      "Min Latitude: 35.554783 (EDCS-08800049)\n",
      "Max Latitude: 48.8567811 (EDCS-55000516)\n",
      "Min Longitude: -7.8105708 (EDCS-08500330)\n",
      "Max Longitude: 35.1506765 (EDCS-24100170)\n"
     ]
    }
   ],
   "source": [
    "\n",
    "# load a JSON file\n",
    "\n",
    "import json\n",
    "from pprint import pprint\n",
    "\n",
    "with open('2023-05-12-EDCS_via_Lat_Epig-term1_tumulus-74.json') as f:\n",
    "    data = json.load(f)\n",
    "\n",
    "# make some summary statistics about the number of inscriptions in the file\n",
    "# data dict_keys(['metadata', 'date', 'data'])\n",
    "\n",
    "print(\"Search Terms:\")\n",
    "\n",
    "for key, value in data['metadata'].items():\n",
    "    if value:\n",
    "        print(f\"* {key}: {value}\")\n",
    "\n",
    "\n",
    "print(f\"Data fetched on: {data['date']}\")\n",
    "print(\"Number of Inscriptions:\", len(data['data']))\n",
    "\n",
    "# find the inscriptions with the smallest and biggest longitude and latitude\n",
    "\n",
    "min_lat = 1000\n",
    "max_lat = -1000\n",
    "min_lat_id = \"\"\n",
    "min_long_id = \"\"\n",
    "min_lon = 1000\n",
    "max_lon = -1000\n",
    "max_lon_id = \"\"\n",
    "max_lat_id = \"\"\n",
    "\n",
    "for inscription in data['data']:\n",
    "    if not inscription['latitude']:\n",
    "        continue\n",
    "    if float(inscription['latitude']) < min_lat:\n",
    "        min_lat = float(inscription['latitude'])\n",
    "        min_lat_id = inscription['EDCS-ID']\n",
    "    if float(inscription['latitude']) > max_lat:\n",
    "        max_lat = float(inscription['latitude'])\n",
    "        max_lat_id = inscription['EDCS-ID']\n",
    "    if float(inscription['longitude']) < min_lon:\n",
    "        min_lon = float(inscription['longitude'])\n",
    "        min_long_id = inscription['EDCS-ID']\n",
    "    if float(inscription['longitude']) > max_lon:\n",
    "        max_lon = float(inscription['longitude'])\n",
    "        max_lon_id = inscription['EDCS-ID']\n",
    "\n",
    "print(f\"Min Latitude: {min_lat} ({min_lat_id})\")\n",
    "print(f\"Max Latitude: {max_lat} ({max_lat_id})\")\n",
    "print(f\"Min Longitude: {min_lon} ({min_long_id})\")\n",
    "print(f\"Max Longitude: {max_lon} ({max_lon_id})\")\n"
   ]
  },
  {
   "cell_type": "markdown",
   "metadata": {},
   "source": [
    "Above is an example of loading a file and making some notional summary statistics. Obviouly, this is abbreviated in this demo, but here is where we would be putting the \"traditional academic\" portions of the paper.\n",
    "\n",
    "# How to use the paper\n",
    "\n",
    "# Introduction\n",
    "\n",
    "# Aims\n",
    "\n",
    "... etc...\n",
    "\n",
    "Now, we will show a basic manipulation (a dropdown menu by which one of the terms can be selected), what that looks like in an archived state, and a [slippymap](https://wiki.openstreetmap.org/wiki/Slippy_map) (and its archive).\n"
   ]
  },
  {
   "cell_type": "code",
   "execution_count": 21,
   "metadata": {},
   "outputs": [
    {
     "data": {
      "application/vnd.jupyter.widget-view+json": {
       "model_id": "a652e22ead174f059616c9250acefccf",
       "version_major": 2,
       "version_minor": 0
      },
      "text/plain": [
       "Dropdown(description='Inscriptions:', layout=Layout(width='100%'), options=(('EDCS-00900052: placere uti ianus…"
      ]
     },
     "metadata": {},
     "output_type": "display_data"
    },
    {
     "data": {
      "text/markdown": [
       "## Inscription EDCS-09200587"
      ]
     },
     "metadata": {},
     "output_type": "display_data"
    },
    {
     "data": {
      "text/markdown": [
       "## Inscription EDCS-10200960"
      ]
     },
     "metadata": {},
     "output_type": "display_data"
    }
   ],
   "source": [
    "# make a ipybwidget dropdown for the inscriptions. The dropdown should be f\"{EDCS-ID}: truncated 50 characters of inscription_interpretive_cleaning\n",
    "\n",
    "from ipywidgets import interact, Dropdown, widgets, HTML, Button\n",
    "from IPython.display import display_markdown\n",
    "\n",
    "# Convert data['data'] into a dict appropriate for make_dropdown. data['data'] is a list of dicts.\n",
    "\n",
    "inscriptions = {}\n",
    "for item in data['data']:\n",
    "    # print(item.keys())\n",
    "    inscriptions[item['EDCS-ID']] = {'edcs_id': item['EDCS-ID'], \n",
    "                                    'inscription_interpretive_cleaning': item['inscription_interpretive_cleaning'],\n",
    "                                     'data': item\n",
    "                                    }\n",
    "# order the inscriptions by EDCS-ID\n",
    "inscriptions = dict(sorted(inscriptions.items()))\n",
    "\n",
    "def make_dropdown(x):\n",
    "    \"\"\"\n",
    "    Return a dropdown widget with inscription IDs and truncated inscriptions. The value should be the EDCS-ID\n",
    "    \"\"\"\n",
    "    dropdown = Dropdown(\n",
    "        options=[(f\"{inscription['edcs_id']}: {inscription['inscription_interpretive_cleaning'][:50]}...\", inscription['edcs_id']) for inscription in inscriptions.values()],\n",
    "        description='Inscriptions:',\n",
    "        disabled=False,\n",
    "        # make this dropdown 100% wide with wrapping\n",
    "        layout={'width': '100%'}\n",
    "\n",
    "    )\n",
    "    return dropdown\n",
    "\n",
    "dropdown = make_dropdown(inscriptions)\n",
    "display(dropdown)\n",
    "\n",
    "# make a output capture widget for the inscription on change\n",
    "\n",
    "\n",
    "# out = widgets.Output(layout={'border': '0px solid black'})\n",
    "# display(out)\n",
    "\n",
    "# @out.capture()\n",
    "def generate_output(change):\n",
    "    \"\"\"Makes the output for a given inscription choice.\n",
    "    \"\"\"\n",
    "    display_markdown(f\"## Inscription {inscriptions[change['new']]['data']['EDCS-ID']}\", raw=True)    \n",
    "\n",
    "    for key, value in inscriptions[change['new']]['data'].items():\n",
    "        if key == \"EDCS-ID\":\n",
    "            continue\n",
    "        if value:\n",
    "            display_markdown(f\"* **{key}**: {value}\", raw=True)\n",
    "    \n",
    "\n",
    "\n",
    "\n",
    "def inscription_dropdown_on_change(change):\n",
    "    \"\"\"\n",
    "    # when they choose an item on the dropdown, print the original full inscription and its metadata.\n",
    "    \"\"\"\n",
    "\n",
    "    if change['type'] == 'change' and change['name'] == 'value':\n",
    "        # print(\"changed to %s\" % change['new'])\n",
    "        # print(inscriptions[change['new']]['data']['inscription_interpretive_cleaning'])\n",
    "        # pprint(inscriptions[change['new']]['data'])\n",
    "        # out.clear_output()\n",
    "        generate_output(change)\n",
    "\n",
    "        \n",
    "\n",
    "dropdown.observe(inscription_dropdown_on_change)\n",
    "\n",
    "\n",
    "# make a default selection, plus printed output of EDCS-09200587 so that when the notebook starts, that is selected with the output.\n",
    "\n",
    "dropdown.value = 'EDCS-09200587'\n"
   ]
  },
  {
   "cell_type": "markdown",
   "metadata": {},
   "source": [
    "# Static Map\n",
    "\n",
    "We will generate a map, in this example with the long, lat of the selected inscription as the centre, plus a standard view around it.\n"
   ]
  },
  {
   "cell_type": "code",
   "execution_count": 17,
   "metadata": {},
   "outputs": [
    {
     "data": {
      "application/vnd.jupyter.widget-view+json": {
       "model_id": "e7f032f770ea47bf884031678b42c373",
       "version_major": 2,
       "version_minor": 0
      },
      "text/plain": [
       "Button(description='Render Point', style=ButtonStyle())"
      ]
     },
     "metadata": {},
     "output_type": "display_data"
    }
   ],
   "source": [
    "\n",
    "# load pygeos, geopandas, natural_earth\n",
    "\n",
    "import geopandas as gpd\n",
    "import pandas as pd\n",
    "import matplotlib.pyplot as plt\n",
    "from geodatasets import get_path\n",
    "\n",
    "# make a geometry column from the lat/long data\n",
    "from shapely import wkt\n",
    "\n",
    "# make a button for render point\n",
    "button = Button(description=\"Render Point\")\n",
    "display(button)\n",
    "\n",
    "\n",
    "\n",
    "def render_point(edcs_id, lat, long, inscription):\n",
    "    \"\"\"Return a shapely point from the lat/long data in the selected_data dict.\n",
    "    selected_data = inscriptions[dropdown.value]['data']\n",
    "    \"\"\"\n",
    "    \n",
    "    selected_data = inscription\n",
    "    selected_data['geometry'] = wkt.loads(f\"POINT({long} {lat})\")\n",
    "    selected_data['properties'] = {'ID':edcs_id}\n",
    "    print(lat, long, edcs_id)\n",
    "    # load the EDCS selected data into a geopandas dataframe\n",
    "\n",
    "    df = gpd.GeoDataFrame.from_features([inscriptions[dropdown.value]['data']])\n",
    "    df.crs = \"EPSG:4326\"\n",
    "\n",
    "    # # load natural earth as the basemap\n",
    "    # ax = df.plot()\n",
    "\n",
    "    # write the plot to map_output\n",
    "\n",
    "    display(HTML(f\"<h2>Inscription {edcs_id}</h2>\"))\n",
    "    world = gpd.read_file(get_path(\"naturalearth.land\"))\n",
    "\n",
    "    # clip the world to the buffer\n",
    "    ax = world.clip([-15,25,50,65]).plot(color=\"white\", edgecolor=\"black\")\n",
    "    # plot the point\n",
    "    df.plot(ax=ax, color=\"red\")\n",
    "\n",
    "\n",
    "\n",
    "def button_on_click(b):\n",
    "    \"\"\"When the button is clicked, render the point.\n",
    "    \"\"\"\n",
    "    # print(\"clicked\", dropdown.value, inscriptions[dropdown.value]['data']['latitude'], inscriptions[dropdown.value]['data']['longitude'])\n",
    "    render_point(edcs_id=dropdown.value, lat=inscriptions[dropdown.value]['data']['latitude'], long=inscriptions[dropdown.value]['data']['longitude'], inscription=inscriptions[dropdown.value]['data'])\n",
    "\n",
    "button.on_click(button_on_click)"
   ]
  }
 ],
 "metadata": {
  "kernelspec": {
   "display_name": "Python 3 (ipykernel)",
   "language": "python",
   "name": "python3"
  },
  "language_info": {
   "codemirror_mode": {
    "name": "ipython",
    "version": 3
   },
   "file_extension": ".py",
   "mimetype": "text/x-python",
   "name": "python",
   "nbconvert_exporter": "python",
   "pygments_lexer": "ipython3",
   "version": "3.10.4"
  },
  "orig_nbformat": 4
 },
 "nbformat": 4,
 "nbformat_minor": 2
}
